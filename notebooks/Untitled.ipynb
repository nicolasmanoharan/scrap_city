{
 "cells": [
  {
   "cell_type": "code",
   "execution_count": 11,
   "id": "b20211ef",
   "metadata": {},
   "outputs": [],
   "source": [
    "import sys\n",
    "import csv\n",
    "from selenium import webdriver\n",
    "import time\n",
    "from bs4 import BeautifulSoup\n",
    "from datetime import datetime, timedelta\n",
    "import pandas as pd\n",
    "import os\n",
    "from dateutil.relativedelta import relativedelta\n",
    "from selenium.webdriver.firefox.service import Service as FirefoxService\n",
    "from webdriver_manager.firefox import GeckoDriverManager"
   ]
  },
  {
   "cell_type": "code",
   "execution_count": 12,
   "id": "8b408acc",
   "metadata": {},
   "outputs": [],
   "source": [
    "entreprise=\"Motortech\"\n",
    "name=\"Motortech Toulon\"\n",
    "url=\"https://www.google.com/maps/place/Motortech+Performance+Toulon/@43.1449545,6.022858,17z/data=!4m8!3m7!1s0x12c9178cc5482ac3:0xfffd9d6d633c5dfe!8m2!3d43.1449545!4d6.0250467!9m1!1b1!16s%2Fg%2F1tmmhk1h?entry=ttu\"\n",
    "nb_avis_disponible=0"
   ]
  },
  {
   "cell_type": "markdown",
   "id": "6933d758",
   "metadata": {},
   "source": [
    "## Import the webdriver"
   ]
  },
  {
   "cell_type": "code",
   "execution_count": 40,
   "id": "d1e206c6",
   "metadata": {},
   "outputs": [],
   "source": [
    "driver = webdriver.Firefox(service=FirefoxService(GeckoDriverManager().install()))\n",
    "driver.get(url)"
   ]
  },
  {
   "cell_type": "markdown",
   "id": "67ea6deb",
   "metadata": {},
   "source": [
    "## privacy pop-up"
   ]
  },
  {
   "cell_type": "code",
   "execution_count": 41,
   "id": "0e47ab73",
   "metadata": {},
   "outputs": [
    {
     "name": "stderr",
     "output_type": "stream",
     "text": [
      "/var/folders/4z/rs890ggx6mv9__ry8_4g0zk00000gp/T/ipykernel_11311/2477515625.py:3: DeprecationWarning: find_element_by_xpath is deprecated. Please use find_element(by=By.XPATH, value=xpath) instead\n",
      "  driver.find_element_by_xpath(xpath).click()\n"
     ]
    }
   ],
   "source": [
    "xpath = \"/html/body/c-wiz/div/div/div/div[2]/div[1]/div[3]/div[1]/div[1]/form[2]/div/div/button/span\"\n",
    "try :\n",
    "    driver.find_element_by_xpath(xpath).click()\n",
    "except :\n",
    "        print(\"xpath not necessary\")"
   ]
  },
  {
   "cell_type": "code",
   "execution_count": 42,
   "id": "7a708ee5",
   "metadata": {},
   "outputs": [],
   "source": [
    "# R"
   ]
  },
  {
   "cell_type": "code",
   "execution_count": 43,
   "id": "d77be478",
   "metadata": {},
   "outputs": [
    {
     "name": "stdout",
     "output_type": "stream",
     "text": [
      "Clique sur le nombre d'avis\n"
     ]
    },
    {
     "name": "stderr",
     "output_type": "stream",
     "text": [
      "/var/folders/4z/rs890ggx6mv9__ry8_4g0zk00000gp/T/ipykernel_11311/1450678025.py:2: DeprecationWarning: find_element_by_xpath is deprecated. Please use find_element(by=By.XPATH, value=xpath) instead\n",
      "  driver.find_element_by_xpath(\"/html/body/div[3]/div[9]/div[9]/div/div/div[1]/div[2]/div/div[1]/div/div/div[2]/div[1]/div[1]/div[2]/div/div[1]/span[1]/span/span/span[2]/span[1]/button\").click()\n"
     ]
    }
   ],
   "source": [
    "try :\n",
    "    driver.find_element_by_xpath(\"/html/body/div[3]/div[9]/div[9]/div/div/div[1]/div[2]/div/div[1]/div/div/div[2]/div[1]/div[1]/div[2]/div/div[1]/span[1]/span/span/span[2]/span[1]/button\").click()\n",
    "except :\n",
    "    print(\"Clique sur le nombre d'avis\")"
   ]
  },
  {
   "cell_type": "code",
   "execution_count": 44,
   "id": "70346c42",
   "metadata": {},
   "outputs": [],
   "source": [
    "## Expand the"
   ]
  },
  {
   "cell_type": "code",
   "execution_count": 45,
   "id": "bc465862",
   "metadata": {},
   "outputs": [],
   "source": [
    "\n",
    "time.sleep(2)\n",
    "\n",
    "#class_ = \"ODSEW-KoToPc-ShBeI gXqMYb-hSRGPd\"\n",
    "class_ = \"wiI7pd\"\n",
    "soup = BeautifulSoup(driver.page_source,\"html.parser\")\n",
    "\n",
    "    "
   ]
  },
  {
   "cell_type": "code",
   "execution_count": 46,
   "id": "8ec1c7d8",
   "metadata": {},
   "outputs": [],
   "source": [
    "xpath_nb_avis = \"/html/body/div[2]/div[3]/div[8]/div[9]/div/div/div[1]/div[2]/div/div[1]/div/div/div[2]/div[1]/div/div[2]/div[3]\""
   ]
  },
  {
   "cell_type": "code",
   "execution_count": 47,
   "id": "92b9801b",
   "metadata": {},
   "outputs": [
    {
     "name": "stderr",
     "output_type": "stream",
     "text": [
      "/var/folders/4z/rs890ggx6mv9__ry8_4g0zk00000gp/T/ipykernel_11311/1220690520.py:1: DeprecationWarning: find_element_by_xpath is deprecated. Please use find_element(by=By.XPATH, value=xpath) instead\n",
      "  total_number_of_reviews =driver.find_element_by_xpath(xpath_nb_avis).text\n"
     ]
    }
   ],
   "source": [
    "total_number_of_reviews =driver.find_element_by_xpath(xpath_nb_avis).text"
   ]
  },
  {
   "cell_type": "code",
   "execution_count": 48,
   "id": "447b1562",
   "metadata": {},
   "outputs": [
    {
     "data": {
      "text/plain": [
       "'180 avis'"
      ]
     },
     "execution_count": 48,
     "metadata": {},
     "output_type": "execute_result"
    }
   ],
   "source": [
    "total_number_of_reviews"
   ]
  },
  {
   "cell_type": "code",
   "execution_count": 34,
   "id": "5913a1bc",
   "metadata": {},
   "outputs": [
    {
     "ename": "NameError",
     "evalue": "name 'nb_avis' is not defined",
     "output_type": "error",
     "traceback": [
      "\u001b[0;31m---------------------------------------------------------------------------\u001b[0m",
      "\u001b[0;31mNameError\u001b[0m                                 Traceback (most recent call last)",
      "Input \u001b[0;32mIn [34]\u001b[0m, in \u001b[0;36m<cell line: 4>\u001b[0;34m()\u001b[0m\n\u001b[1;32m      1\u001b[0m \u001b[38;5;66;03m## Catch nombre d'avis\u001b[39;00m\n\u001b[1;32m      2\u001b[0m total_number_of_reviews \u001b[38;5;241m=\u001b[39m \u001b[38;5;28mfloat\u001b[39m(\n\u001b[1;32m      3\u001b[0m total_number_of_reviews\u001b[38;5;241m.\u001b[39msplit(\u001b[38;5;124m\"\u001b[39m\u001b[38;5;124m \u001b[39m\u001b[38;5;124m\"\u001b[39m)[\u001b[38;5;241m-\u001b[39m\u001b[38;5;241m2\u001b[39m]\u001b[38;5;241m.\u001b[39mreplace(\u001b[38;5;124m\"\u001b[39m\u001b[38;5;130;01m\\u202f\u001b[39;00m\u001b[38;5;124m\"\u001b[39m, \u001b[38;5;124m\"\u001b[39m\u001b[38;5;124m\"\u001b[39m))\n\u001b[0;32m----> 4\u001b[0m \u001b[38;5;28;01mif\u001b[39;00m \u001b[43mnb_avis\u001b[49m \u001b[38;5;129;01mis\u001b[39;00m \u001b[38;5;129;01mnot\u001b[39;00m \u001b[38;5;28;01mNone\u001b[39;00m :\n\u001b[1;32m      5\u001b[0m     rec_log(entreprise, name, url, total_number_of_reviews,\n\u001b[1;32m      6\u001b[0m     total_number_of_reviews \u001b[38;5;241m-\u001b[39m \u001b[38;5;28mfloat\u001b[39m(nb_avis))\n\u001b[1;32m      7\u001b[0m \u001b[38;5;28;01melse\u001b[39;00m :\n",
      "\u001b[0;31mNameError\u001b[0m: name 'nb_avis' is not defined"
     ]
    }
   ],
   "source": [
    "## Catch nombre d'avis\n",
    "total_number_of_reviews = float(\n",
    "total_number_of_reviews.split(\" \")[-2].replace(\"\\u202f\", \"\"))\n",
    "    if nb_avis is not None :\n",
    "        rec_log(entreprise, name, url, total_number_of_reviews,\n",
    "        total_number_of_reviews - float(nb_avis))\n",
    "    else :\n",
    "        rec_log(entreprise, name, url, float(total_number_of_reviews))"
   ]
  },
  {
   "cell_type": "code",
   "execution_count": 50,
   "id": "c4e45d6c",
   "metadata": {},
   "outputs": [
    {
     "name": "stderr",
     "output_type": "stream",
     "text": [
      "/var/folders/4z/rs890ggx6mv9__ry8_4g0zk00000gp/T/ipykernel_11311/1416738047.py:3: DeprecationWarning: find_element_by_xpath is deprecated. Please use find_element(by=By.XPATH, value=xpath) instead\n",
      "  driver.find_element_by_xpath(xpatrier).click()\n"
     ]
    }
   ],
   "source": [
    "try :\n",
    "    xpatrier = \"/html/body/div[2]/div[3]/div[8]/div[9]/div/div/div[1]/div[2]/div/div[1]/div/div/div[2]/div[8]/div[2]/button/span/span\"\n",
    "    driver.find_element_by_xpath(xpatrier).click()\n",
    "except :\n",
    "    print(\"echec ouverture Trier\")\n",
    "\n"
   ]
  },
  {
   "cell_type": "code",
   "execution_count": 51,
   "id": "8e1c74b3",
   "metadata": {},
   "outputs": [
    {
     "name": "stderr",
     "output_type": "stream",
     "text": [
      "/var/folders/4z/rs890ggx6mv9__ry8_4g0zk00000gp/T/ipykernel_11311/1848903012.py:1: DeprecationWarning: find_element_by_xpath is deprecated. Please use find_element(by=By.XPATH, value=xpath) instead\n",
      "  driver.find_element_by_xpath(\"/html/body/div[2]/div[3]/div[3]/div[1]/div[2]\").click()\n"
     ]
    }
   ],
   "source": [
    "driver.find_element_by_xpath(\"/html/body/div[2]/div[3]/div[3]/div[1]/div[2]\").click()"
   ]
  },
  {
   "cell_type": "code",
   "execution_count": 52,
   "id": "24a31e2d",
   "metadata": {},
   "outputs": [
    {
     "data": {
      "text/plain": [
       "10"
      ]
     },
     "execution_count": 52,
     "metadata": {},
     "output_type": "execute_result"
    }
   ],
   "source": [
    "    books_html = soup.findAll('div', class_ =\"jftiEf fontBodyMedium\")\n",
    "    len(books_html)"
   ]
  },
  {
   "cell_type": "code",
   "execution_count": 58,
   "id": "492e2895",
   "metadata": {},
   "outputs": [
    {
     "ename": "TypeError",
     "evalue": "'>=' not supported between instances of 'str' and 'int'",
     "output_type": "error",
     "traceback": [
      "\u001b[0;31m---------------------------------------------------------------------------\u001b[0m",
      "\u001b[0;31mTypeError\u001b[0m                                 Traceback (most recent call last)",
      "Input \u001b[0;32mIn [58]\u001b[0m, in \u001b[0;36m<cell line: 1>\u001b[0;34m()\u001b[0m\n\u001b[0;32m----> 1\u001b[0m \u001b[38;5;28;01mif\u001b[39;00m \u001b[43mtotal_number_of_reviews\u001b[49m\u001b[43m \u001b[49m\u001b[38;5;241;43m>\u001b[39;49m\u001b[38;5;241;43m=\u001b[39;49m\u001b[43m \u001b[49m\u001b[38;5;241;43m10\u001b[39;49m :\n\u001b[1;32m      2\u001b[0m     \u001b[38;5;28;01mfor\u001b[39;00m i \u001b[38;5;129;01min\u001b[39;00m (\u001b[38;5;28mrange\u001b[39m(\u001b[38;5;241m0\u001b[39m, (\u001b[38;5;28mround\u001b[39m(total_number_of_reviews \u001b[38;5;241m/\u001b[39m \u001b[38;5;241m10\u001b[39m \u001b[38;5;241m-\u001b[39m \u001b[38;5;241m1\u001b[39m)))):\n\u001b[1;32m      3\u001b[0m         driver\u001b[38;5;241m.\u001b[39mexecute_script(\u001b[38;5;124m'\u001b[39m\u001b[38;5;124marguments[0].scrollTop = arguments[0].scrollHeight\u001b[39m\u001b[38;5;124m'\u001b[39m,\n\u001b[1;32m      4\u001b[0m                 scrollable_div)\n",
      "\u001b[0;31mTypeError\u001b[0m: '>=' not supported between instances of 'str' and 'int'"
     ]
    }
   ],
   "source": [
    "if total_number_of_reviews >= 10 :\n",
    "    for i in (range(0, (round(total_number_of_reviews / 10 - 1)))):\n",
    "            driver.execute_script('arguments[0].scrollTop = arguments[0].scrollHeight',\n",
    "                    scrollable_div)\n",
    "            time.sleep(2)\n",
    "    try :\n",
    "        liste_plus =driver.find_elements_by_xpath('//button[normalize-space()=\"Plus\"]')\n",
    "    except :\n",
    "        print(\"stop\")\n",
    "    for i in liste_plus :\n",
    "        try :\n",
    "            i.click()\n",
    "        except :\n",
    "            print(\"tant pis\")\n",
    "\n",
    "    response = BeautifulSoup(driver.page_source, 'html.parser')"
   ]
  },
  {
   "cell_type": "code",
   "execution_count": null,
   "id": "f7e2be17",
   "metadata": {},
   "outputs": [],
   "source": []
  }
 ],
 "metadata": {
  "kernelspec": {
   "display_name": "Python 3 (ipykernel)",
   "language": "python",
   "name": "python3"
  },
  "language_info": {
   "codemirror_mode": {
    "name": "ipython",
    "version": 3
   },
   "file_extension": ".py",
   "mimetype": "text/x-python",
   "name": "python",
   "nbconvert_exporter": "python",
   "pygments_lexer": "ipython3",
   "version": "3.10.6"
  },
  "toc": {
   "base_numbering": 1,
   "nav_menu": {},
   "number_sections": true,
   "sideBar": true,
   "skip_h1_title": false,
   "title_cell": "Table of Contents",
   "title_sidebar": "Contents",
   "toc_cell": false,
   "toc_position": {},
   "toc_section_display": true,
   "toc_window_display": false
  }
 },
 "nbformat": 4,
 "nbformat_minor": 5
}
