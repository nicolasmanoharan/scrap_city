{
 "cells": [
  {
   "cell_type": "code",
   "execution_count": 17,
   "id": "b20211ef",
   "metadata": {},
   "outputs": [],
   "source": [
    "from  scrap_city import google_reviews"
   ]
  },
  {
   "cell_type": "code",
   "execution_count": 2,
   "id": "8b408acc",
   "metadata": {},
   "outputs": [],
   "source": [
    "entreprise=\"Motortech\"\n",
    "name=\"Motortech Toulon\"\n",
    "url=\"https://www.google.com/maps/place/Motortech+Performance+Toulon/@43.1449545,6.022858,17z/data=!4m8!3m7!1s0x12c9178cc5482ac3:0xfffd9d6d633c5dfe!8m2!3d43.1449545!4d6.0250467!9m1!1b1!16s%2Fg%2F1tmmhk1h?entry=ttu\"\n",
    "nb_avis_disponible=10"
   ]
  },
  {
   "cell_type": "markdown",
   "id": "6933d758",
   "metadata": {},
   "source": [
    "## Import the webdriver"
   ]
  },
  {
   "cell_type": "code",
   "execution_count": 21,
   "id": "d1e206c6",
   "metadata": {},
   "outputs": [
    {
     "name": "stdout",
     "output_type": "stream",
     "text": [
      "Clique sur le nombre d'avis\n",
      "Le log a été enregistré avec succès.\n"
     ]
    },
    {
     "ename": "NoSuchWindowException",
     "evalue": "Message: Browsing context has been discarded\nStacktrace:\nRemoteError@chrome://remote/content/shared/RemoteError.sys.mjs:8:8\nWebDriverError@chrome://remote/content/shared/webdriver/Errors.sys.mjs:191:5\nNoSuchWindowError@chrome://remote/content/shared/webdriver/Errors.sys.mjs:662:5\nassert.that/<@chrome://remote/content/shared/webdriver/Assert.sys.mjs:485:13\nassert.open@chrome://remote/content/shared/webdriver/Assert.sys.mjs:147:4\nGeckoDriver.prototype.execute_@chrome://remote/content/marionette/driver.sys.mjs:747:15\nGeckoDriver.prototype.executeScript@chrome://remote/content/marionette/driver.sys.mjs:659:15\ndespatch@chrome://remote/content/marionette/server.sys.mjs:318:40\nexecute@chrome://remote/content/marionette/server.sys.mjs:289:16\nonPacket/<@chrome://remote/content/marionette/server.sys.mjs:262:20\nonPacket@chrome://remote/content/marionette/server.sys.mjs:263:9\n_onJSONObjectReady/<@chrome://remote/content/marionette/transport.sys.mjs:494:20\n",
     "output_type": "error",
     "traceback": [
      "\u001b[0;31m---------------------------------------------------------------------------\u001b[0m",
      "\u001b[0;31mNoSuchWindowException\u001b[0m                     Traceback (most recent call last)",
      "Input \u001b[0;32mIn [21]\u001b[0m, in \u001b[0;36m<cell line: 1>\u001b[0;34m()\u001b[0m\n\u001b[0;32m----> 1\u001b[0m \u001b[43mgoogle_reviews\u001b[49m\u001b[38;5;241;43m.\u001b[39;49m\u001b[43mget_list_review_google\u001b[49m\u001b[43m(\u001b[49m\u001b[43murl\u001b[49m\u001b[38;5;241;43m=\u001b[39;49m\u001b[38;5;124;43m\"\u001b[39;49m\u001b[38;5;124;43mhttps://www.google.fr/maps/place/Leroy+Merlin+Collégien/@48.8350548,2.660387,17z/data=!4m8!3m7!1s0x47fa21b36c8d581f:0x4b608c92ba1bf7f!8m2!3d48.8350548!4d2.6625757!9m1!1b1!16s\u001b[39;49m\u001b[38;5;132;43;01m%2F\u001b[39;49;00m\u001b[38;5;124;43mg\u001b[39;49m\u001b[38;5;132;43;01m%2F\u001b[39;49;00m\u001b[38;5;124;43m1pxwgmh18\u001b[39;49m\u001b[38;5;124;43m\"\u001b[39;49m\u001b[43m,\u001b[49m\n\u001b[1;32m      2\u001b[0m \u001b[43m                                      \u001b[49m\u001b[43mentreprise\u001b[49m\u001b[43m \u001b[49m\u001b[38;5;241;43m=\u001b[39;49m\u001b[43m \u001b[49m\u001b[38;5;124;43m\"\u001b[39;49m\u001b[38;5;124;43mLeroy Merlin\u001b[39;49m\u001b[38;5;124;43m\"\u001b[39;49m\u001b[43m,\u001b[49m\n\u001b[1;32m      3\u001b[0m \u001b[43m                                      \u001b[49m\u001b[43mname\u001b[49m\u001b[43m \u001b[49m\u001b[38;5;241;43m=\u001b[39;49m\u001b[43m \u001b[49m\u001b[38;5;124;43m\"\u001b[39;49m\u001b[38;5;124;43mCollegien\u001b[39;49m\u001b[38;5;124;43m\"\u001b[39;49m\u001b[43m)\u001b[49m\n",
      "File \u001b[0;32m~/code/scrap_city/scrap_city/google_reviews.py:210\u001b[0m, in \u001b[0;36mget_list_review_google\u001b[0;34m(url, entreprise, name, nb_avis)\u001b[0m\n\u001b[1;32m    209\u001b[0m \u001b[38;5;28;01mdef\u001b[39;00m \u001b[38;5;21mget_list_review_google\u001b[39m(url, entreprise,name, nb_avis\u001b[38;5;241m=\u001b[39m\u001b[38;5;28;01mNone\u001b[39;00m):\n\u001b[0;32m--> 210\u001b[0m     tmp \u001b[38;5;241m=\u001b[39m \u001b[43mget_google_review\u001b[49m\u001b[43m(\u001b[49m\u001b[43murl\u001b[49m\u001b[43m,\u001b[49m\u001b[43m \u001b[49m\u001b[43mentreprise\u001b[49m\u001b[43m,\u001b[49m\u001b[43m \u001b[49m\u001b[43mname\u001b[49m\u001b[43m,\u001b[49m\u001b[43m \u001b[49m\u001b[43mnb_avis\u001b[49m\u001b[43m)\u001b[49m\n\u001b[1;32m    211\u001b[0m     \u001b[38;5;28;01mif\u001b[39;00m tmp \u001b[38;5;129;01mis\u001b[39;00m \u001b[38;5;28;01mNone\u001b[39;00m :\n\u001b[1;32m    212\u001b[0m         \u001b[38;5;28;01mreturn\u001b[39;00m\n",
      "File \u001b[0;32m~/code/scrap_city/scrap_city/google_reviews.py:183\u001b[0m, in \u001b[0;36mget_google_review\u001b[0;34m(url, entreprise, name, nb_avis)\u001b[0m\n\u001b[1;32m    181\u001b[0m \u001b[38;5;28;01mif\u001b[39;00m total_number_of_reviews \u001b[38;5;241m>\u001b[39m\u001b[38;5;241m=\u001b[39m \u001b[38;5;241m10\u001b[39m :\n\u001b[1;32m    182\u001b[0m     \u001b[38;5;28;01mfor\u001b[39;00m i \u001b[38;5;129;01min\u001b[39;00m (\u001b[38;5;28mrange\u001b[39m(\u001b[38;5;241m0\u001b[39m, (\u001b[38;5;28mround\u001b[39m(total_number_of_reviews \u001b[38;5;241m/\u001b[39m \u001b[38;5;241m10\u001b[39m \u001b[38;5;241m-\u001b[39m \u001b[38;5;241m1\u001b[39m)))):\n\u001b[0;32m--> 183\u001b[0m         \u001b[43mdriver\u001b[49m\u001b[38;5;241;43m.\u001b[39;49m\u001b[43mexecute_script\u001b[49m\u001b[43m(\u001b[49m\u001b[38;5;124;43m'\u001b[39;49m\u001b[38;5;124;43marguments[0].scrollTop = arguments[0].scrollHeight\u001b[39;49m\u001b[38;5;124;43m'\u001b[39;49m\u001b[43m,\u001b[49m\n\u001b[1;32m    184\u001b[0m \u001b[43m                \u001b[49m\u001b[43mscrollable_div\u001b[49m\u001b[43m)\u001b[49m\n\u001b[1;32m    185\u001b[0m         time\u001b[38;5;241m.\u001b[39msleep(\u001b[38;5;241m2\u001b[39m)\n\u001b[1;32m    186\u001b[0m \u001b[38;5;28;01mtry\u001b[39;00m :\n",
      "File \u001b[0;32m~/.pyenv/versions/3.10.6/envs/scrap_city/lib/python3.10/site-packages/selenium/webdriver/remote/webdriver.py:884\u001b[0m, in \u001b[0;36mWebDriver.execute_script\u001b[0;34m(self, script, *args)\u001b[0m\n\u001b[1;32m    881\u001b[0m converted_args \u001b[38;5;241m=\u001b[39m \u001b[38;5;28mlist\u001b[39m(args)\n\u001b[1;32m    882\u001b[0m command \u001b[38;5;241m=\u001b[39m Command\u001b[38;5;241m.\u001b[39mW3C_EXECUTE_SCRIPT\n\u001b[0;32m--> 884\u001b[0m \u001b[38;5;28;01mreturn\u001b[39;00m \u001b[38;5;28;43mself\u001b[39;49m\u001b[38;5;241;43m.\u001b[39;49m\u001b[43mexecute\u001b[49m\u001b[43m(\u001b[49m\u001b[43mcommand\u001b[49m\u001b[43m,\u001b[49m\u001b[43m \u001b[49m\u001b[43m{\u001b[49m\n\u001b[1;32m    885\u001b[0m \u001b[43m    \u001b[49m\u001b[38;5;124;43m'\u001b[39;49m\u001b[38;5;124;43mscript\u001b[39;49m\u001b[38;5;124;43m'\u001b[39;49m\u001b[43m:\u001b[49m\u001b[43m \u001b[49m\u001b[43mscript\u001b[49m\u001b[43m,\u001b[49m\n\u001b[1;32m    886\u001b[0m \u001b[43m    \u001b[49m\u001b[38;5;124;43m'\u001b[39;49m\u001b[38;5;124;43margs\u001b[39;49m\u001b[38;5;124;43m'\u001b[39;49m\u001b[43m:\u001b[49m\u001b[43m \u001b[49m\u001b[43mconverted_args\u001b[49m\u001b[43m}\u001b[49m\u001b[43m)\u001b[49m[\u001b[38;5;124m'\u001b[39m\u001b[38;5;124mvalue\u001b[39m\u001b[38;5;124m'\u001b[39m]\n",
      "File \u001b[0;32m~/.pyenv/versions/3.10.6/envs/scrap_city/lib/python3.10/site-packages/selenium/webdriver/remote/webdriver.py:430\u001b[0m, in \u001b[0;36mWebDriver.execute\u001b[0;34m(self, driver_command, params)\u001b[0m\n\u001b[1;32m    428\u001b[0m response \u001b[38;5;241m=\u001b[39m \u001b[38;5;28mself\u001b[39m\u001b[38;5;241m.\u001b[39mcommand_executor\u001b[38;5;241m.\u001b[39mexecute(driver_command, params)\n\u001b[1;32m    429\u001b[0m \u001b[38;5;28;01mif\u001b[39;00m response:\n\u001b[0;32m--> 430\u001b[0m     \u001b[38;5;28;43mself\u001b[39;49m\u001b[38;5;241;43m.\u001b[39;49m\u001b[43merror_handler\u001b[49m\u001b[38;5;241;43m.\u001b[39;49m\u001b[43mcheck_response\u001b[49m\u001b[43m(\u001b[49m\u001b[43mresponse\u001b[49m\u001b[43m)\u001b[49m\n\u001b[1;32m    431\u001b[0m     response[\u001b[38;5;124m'\u001b[39m\u001b[38;5;124mvalue\u001b[39m\u001b[38;5;124m'\u001b[39m] \u001b[38;5;241m=\u001b[39m \u001b[38;5;28mself\u001b[39m\u001b[38;5;241m.\u001b[39m_unwrap_value(\n\u001b[1;32m    432\u001b[0m         response\u001b[38;5;241m.\u001b[39mget(\u001b[38;5;124m'\u001b[39m\u001b[38;5;124mvalue\u001b[39m\u001b[38;5;124m'\u001b[39m, \u001b[38;5;28;01mNone\u001b[39;00m))\n\u001b[1;32m    433\u001b[0m     \u001b[38;5;28;01mreturn\u001b[39;00m response\n",
      "File \u001b[0;32m~/.pyenv/versions/3.10.6/envs/scrap_city/lib/python3.10/site-packages/selenium/webdriver/remote/errorhandler.py:247\u001b[0m, in \u001b[0;36mErrorHandler.check_response\u001b[0;34m(self, response)\u001b[0m\n\u001b[1;32m    245\u001b[0m         alert_text \u001b[38;5;241m=\u001b[39m value[\u001b[38;5;124m'\u001b[39m\u001b[38;5;124malert\u001b[39m\u001b[38;5;124m'\u001b[39m]\u001b[38;5;241m.\u001b[39mget(\u001b[38;5;124m'\u001b[39m\u001b[38;5;124mtext\u001b[39m\u001b[38;5;124m'\u001b[39m)\n\u001b[1;32m    246\u001b[0m     \u001b[38;5;28;01mraise\u001b[39;00m exception_class(message, screen, stacktrace, alert_text)  \u001b[38;5;66;03m# type: ignore[call-arg]  # mypy is not smart enough here\u001b[39;00m\n\u001b[0;32m--> 247\u001b[0m \u001b[38;5;28;01mraise\u001b[39;00m exception_class(message, screen, stacktrace)\n",
      "\u001b[0;31mNoSuchWindowException\u001b[0m: Message: Browsing context has been discarded\nStacktrace:\nRemoteError@chrome://remote/content/shared/RemoteError.sys.mjs:8:8\nWebDriverError@chrome://remote/content/shared/webdriver/Errors.sys.mjs:191:5\nNoSuchWindowError@chrome://remote/content/shared/webdriver/Errors.sys.mjs:662:5\nassert.that/<@chrome://remote/content/shared/webdriver/Assert.sys.mjs:485:13\nassert.open@chrome://remote/content/shared/webdriver/Assert.sys.mjs:147:4\nGeckoDriver.prototype.execute_@chrome://remote/content/marionette/driver.sys.mjs:747:15\nGeckoDriver.prototype.executeScript@chrome://remote/content/marionette/driver.sys.mjs:659:15\ndespatch@chrome://remote/content/marionette/server.sys.mjs:318:40\nexecute@chrome://remote/content/marionette/server.sys.mjs:289:16\nonPacket/<@chrome://remote/content/marionette/server.sys.mjs:262:20\nonPacket@chrome://remote/content/marionette/server.sys.mjs:263:9\n_onJSONObjectReady/<@chrome://remote/content/marionette/transport.sys.mjs:494:20\n"
     ]
    }
   ],
   "source": [
    "google_reviews.get_list_review_google(url=\"https://www.google.fr/maps/place/Leroy+Merlin+Collégien/@48.8350548,2.660387,17z/data=!4m8!3m7!1s0x47fa21b36c8d581f:0x4b608c92ba1bf7f!8m2!3d48.8350548!4d2.6625757!9m1!1b1!16s%2Fg%2F1pxwgmh18\",\n",
    "                                      entreprise = \"Leroy Merlin\",\n",
    "                                      name = \"Collegien\")"
   ]
  },
  {
   "cell_type": "markdown",
   "id": "67ea6deb",
   "metadata": {},
   "source": [
    "## privacy pop-up"
   ]
  },
  {
   "cell_type": "code",
   "execution_count": null,
   "id": "cdaba7ba",
   "metadata": {},
   "outputs": [],
   "source": [
    "rec_log(\n",
    "        entreprise=\"Leroy Merlin\",\n",
    "        name=\"Leroy Merlin Collegien\",\n",
    "        url=\n",
    "        \"https://www.google.fr/maps/place/Leroy+Merlin+Collégien/@48.8350548,2.660387,17z/data=!4m8!3m7!1s0x47fa21b36c8d581f:0x4b608c92ba1bf7f!8m2!3d48.8350548!4d2.6625757!9m1!1b1!16s%2Fg%2F1pxwgmh18\",\n",
    "        nb_avis_disponible=0)"
   ]
  },
  {
   "cell_type": "code",
   "execution_count": 4,
   "id": "0e47ab73",
   "metadata": {},
   "outputs": [
    {
     "name": "stderr",
     "output_type": "stream",
     "text": [
      "/var/folders/4z/rs890ggx6mv9__ry8_4g0zk00000gp/T/ipykernel_19289/2477515625.py:3: DeprecationWarning: find_element_by_xpath is deprecated. Please use find_element(by=By.XPATH, value=xpath) instead\n",
      "  driver.find_element_by_xpath(xpath).click()\n"
     ]
    }
   ],
   "source": [
    "xpath = \"/html/body/c-wiz/div/div/div/div[2]/div[1]/div[3]/div[1]/div[1]/form[2]/div/div/button/span\"\n",
    "try :\n",
    "    driver.find_element_by_xpath(xpath).click()\n",
    "except :\n",
    "        print(\"xpath not necessary\")"
   ]
  },
  {
   "cell_type": "code",
   "execution_count": 5,
   "id": "7a708ee5",
   "metadata": {},
   "outputs": [],
   "source": [
    "# R"
   ]
  },
  {
   "cell_type": "code",
   "execution_count": 6,
   "id": "d77be478",
   "metadata": {},
   "outputs": [
    {
     "name": "stdout",
     "output_type": "stream",
     "text": [
      "Clique sur le nombre d'avis\n"
     ]
    },
    {
     "name": "stderr",
     "output_type": "stream",
     "text": [
      "/var/folders/4z/rs890ggx6mv9__ry8_4g0zk00000gp/T/ipykernel_19289/1450678025.py:2: DeprecationWarning: find_element_by_xpath is deprecated. Please use find_element(by=By.XPATH, value=xpath) instead\n",
      "  driver.find_element_by_xpath(\"/html/body/div[3]/div[9]/div[9]/div/div/div[1]/div[2]/div/div[1]/div/div/div[2]/div[1]/div[1]/div[2]/div/div[1]/span[1]/span/span/span[2]/span[1]/button\").click()\n"
     ]
    }
   ],
   "source": [
    "try :\n",
    "    driver.find_element_by_xpath(\"/html/body/div[3]/div[9]/div[9]/div/div/div[1]/div[2]/div/div[1]/div/div/div[2]/div[1]/div[1]/div[2]/div/div[1]/span[1]/span/span/span[2]/span[1]/button\").click()\n",
    "except :\n",
    "    print(\"Clique sur le nombre d'avis\")"
   ]
  },
  {
   "cell_type": "code",
   "execution_count": 7,
   "id": "70346c42",
   "metadata": {},
   "outputs": [],
   "source": [
    "## Expand the"
   ]
  },
  {
   "cell_type": "code",
   "execution_count": 8,
   "id": "bc465862",
   "metadata": {},
   "outputs": [],
   "source": [
    "\n",
    "time.sleep(2)\n",
    "\n",
    "#class_ = \"ODSEW-KoToPc-ShBeI gXqMYb-hSRGPd\"\n",
    "class_ = \"wiI7pd\"\n",
    "soup = BeautifulSoup(driver.page_source,\"html.parser\")\n",
    "\n",
    "    "
   ]
  },
  {
   "cell_type": "code",
   "execution_count": 9,
   "id": "8ec1c7d8",
   "metadata": {},
   "outputs": [],
   "source": [
    "xpath_nb_avis = \"/html/body/div[2]/div[3]/div[8]/div[9]/div/div/div[1]/div[2]/div/div[1]/div/div/div[2]/div[1]/div/div[2]/div[3]\""
   ]
  },
  {
   "cell_type": "code",
   "execution_count": 10,
   "id": "92b9801b",
   "metadata": {},
   "outputs": [
    {
     "name": "stderr",
     "output_type": "stream",
     "text": [
      "/var/folders/4z/rs890ggx6mv9__ry8_4g0zk00000gp/T/ipykernel_19289/1220690520.py:1: DeprecationWarning: find_element_by_xpath is deprecated. Please use find_element(by=By.XPATH, value=xpath) instead\n",
      "  total_number_of_reviews =driver.find_element_by_xpath(xpath_nb_avis).text\n"
     ]
    }
   ],
   "source": [
    "total_number_of_reviews =driver.find_element_by_xpath(xpath_nb_avis).text"
   ]
  },
  {
   "cell_type": "code",
   "execution_count": 11,
   "id": "5913a1bc",
   "metadata": {},
   "outputs": [
    {
     "ename": "IndentationError",
     "evalue": "unexpected indent (3656583235.py, line 4)",
     "output_type": "error",
     "traceback": [
      "\u001b[0;36m  Input \u001b[0;32mIn [11]\u001b[0;36m\u001b[0m\n\u001b[0;31m    if nb_avis is not None :\u001b[0m\n\u001b[0m    ^\u001b[0m\n\u001b[0;31mIndentationError\u001b[0m\u001b[0;31m:\u001b[0m unexpected indent\n"
     ]
    }
   ],
   "source": [
    "## Catch nombre d'avis\n",
    "total_number_of_reviews = float(\n",
    "total_number_of_reviews.split(\" \")[-2].replace(\"\\u202f\", \"\"))\n",
    "    if nb_avis is not None :\n",
    "        rec_log(entreprise, name, url, total_number_of_reviews,\n",
    "        total_number_of_reviews - float(nb_avis))\n",
    "    else :\n",
    "        rec_log(entreprise, name, url, float(total_number_of_reviews))"
   ]
  },
  {
   "cell_type": "code",
   "execution_count": 12,
   "id": "c4e45d6c",
   "metadata": {},
   "outputs": [
    {
     "name": "stderr",
     "output_type": "stream",
     "text": [
      "/var/folders/4z/rs890ggx6mv9__ry8_4g0zk00000gp/T/ipykernel_19289/1416738047.py:3: DeprecationWarning: find_element_by_xpath is deprecated. Please use find_element(by=By.XPATH, value=xpath) instead\n",
      "  driver.find_element_by_xpath(xpatrier).click()\n"
     ]
    }
   ],
   "source": [
    "try :\n",
    "    xpatrier = \"/html/body/div[2]/div[3]/div[8]/div[9]/div/div/div[1]/div[2]/div/div[1]/div/div/div[2]/div[8]/div[2]/button/span/span\"\n",
    "    driver.find_element_by_xpath(xpatrier).click()\n",
    "except :\n",
    "    print(\"echec ouverture Trier\")\n",
    "\n"
   ]
  },
  {
   "cell_type": "code",
   "execution_count": 13,
   "id": "8e1c74b3",
   "metadata": {},
   "outputs": [
    {
     "name": "stderr",
     "output_type": "stream",
     "text": [
      "/var/folders/4z/rs890ggx6mv9__ry8_4g0zk00000gp/T/ipykernel_19289/1848903012.py:1: DeprecationWarning: find_element_by_xpath is deprecated. Please use find_element(by=By.XPATH, value=xpath) instead\n",
      "  driver.find_element_by_xpath(\"/html/body/div[2]/div[3]/div[3]/div[1]/div[2]\").click()\n"
     ]
    }
   ],
   "source": [
    "driver.find_element_by_xpath(\"/html/body/div[2]/div[3]/div[3]/div[1]/div[2]\").click()"
   ]
  },
  {
   "cell_type": "code",
   "execution_count": 14,
   "id": "24a31e2d",
   "metadata": {},
   "outputs": [
    {
     "data": {
      "text/plain": [
       "10"
      ]
     },
     "execution_count": 14,
     "metadata": {},
     "output_type": "execute_result"
    }
   ],
   "source": [
    "    books_html = soup.findAll('div', class_ =\"jftiEf fontBodyMedium\")\n",
    "    len(books_html)"
   ]
  },
  {
   "cell_type": "code",
   "execution_count": 15,
   "id": "492e2895",
   "metadata": {},
   "outputs": [
    {
     "ename": "TypeError",
     "evalue": "'>=' not supported between instances of 'str' and 'int'",
     "output_type": "error",
     "traceback": [
      "\u001b[0;31m---------------------------------------------------------------------------\u001b[0m",
      "\u001b[0;31mTypeError\u001b[0m                                 Traceback (most recent call last)",
      "Input \u001b[0;32mIn [15]\u001b[0m, in \u001b[0;36m<cell line: 1>\u001b[0;34m()\u001b[0m\n\u001b[0;32m----> 1\u001b[0m \u001b[38;5;28;01mif\u001b[39;00m \u001b[43mtotal_number_of_reviews\u001b[49m\u001b[43m \u001b[49m\u001b[38;5;241;43m>\u001b[39;49m\u001b[38;5;241;43m=\u001b[39;49m\u001b[43m \u001b[49m\u001b[38;5;241;43m10\u001b[39;49m :\n\u001b[1;32m      2\u001b[0m     \u001b[38;5;28;01mfor\u001b[39;00m i \u001b[38;5;129;01min\u001b[39;00m (\u001b[38;5;28mrange\u001b[39m(\u001b[38;5;241m0\u001b[39m, (\u001b[38;5;28mround\u001b[39m(total_number_of_reviews \u001b[38;5;241m/\u001b[39m \u001b[38;5;241m10\u001b[39m \u001b[38;5;241m-\u001b[39m \u001b[38;5;241m1\u001b[39m)))):\n\u001b[1;32m      3\u001b[0m             driver\u001b[38;5;241m.\u001b[39mexecute_script(\u001b[38;5;124m'\u001b[39m\u001b[38;5;124marguments[0].scrollTop = arguments[0].scrollHeight\u001b[39m\u001b[38;5;124m'\u001b[39m,\n\u001b[1;32m      4\u001b[0m                     scrollable_div)\n",
      "\u001b[0;31mTypeError\u001b[0m: '>=' not supported between instances of 'str' and 'int'"
     ]
    }
   ],
   "source": [
    "if total_number_of_reviews >= 10 :\n",
    "    for i in (range(0, (round(total_number_of_reviews / 10 - 1)))):\n",
    "            driver.execute_script('arguments[0].scrollTop = arguments[0].scrollHeight',\n",
    "                    scrollable_div)\n",
    "            time.sleep(2)\n",
    "    try :\n",
    "        liste_plus =driver.find_elements_by_xpath('//button[normalize-space()=\"Plus\"]')\n",
    "    except :\n",
    "        print(\"stop\")\n",
    "    for i in liste_plus :\n",
    "        try :\n",
    "            i.click()\n",
    "        except :\n",
    "            print(\"tant pis\")\n",
    "\n",
    "    response = BeautifulSoup(driver.page_source, 'html.parser')"
   ]
  },
  {
   "cell_type": "code",
   "execution_count": null,
   "id": "f7e2be17",
   "metadata": {},
   "outputs": [],
   "source": []
  },
  {
   "cell_type": "code",
   "execution_count": null,
   "id": "3249fd28",
   "metadata": {},
   "outputs": [],
   "source": []
  }
 ],
 "metadata": {
  "kernelspec": {
   "display_name": "Python 3 (ipykernel)",
   "language": "python",
   "name": "python3"
  },
  "language_info": {
   "codemirror_mode": {
    "name": "ipython",
    "version": 3
   },
   "file_extension": ".py",
   "mimetype": "text/x-python",
   "name": "python",
   "nbconvert_exporter": "python",
   "pygments_lexer": "ipython3",
   "version": "3.10.6"
  },
  "toc": {
   "base_numbering": 1,
   "nav_menu": {},
   "number_sections": true,
   "sideBar": true,
   "skip_h1_title": false,
   "title_cell": "Table of Contents",
   "title_sidebar": "Contents",
   "toc_cell": false,
   "toc_position": {},
   "toc_section_display": true,
   "toc_window_display": false
  }
 },
 "nbformat": 4,
 "nbformat_minor": 5
}
